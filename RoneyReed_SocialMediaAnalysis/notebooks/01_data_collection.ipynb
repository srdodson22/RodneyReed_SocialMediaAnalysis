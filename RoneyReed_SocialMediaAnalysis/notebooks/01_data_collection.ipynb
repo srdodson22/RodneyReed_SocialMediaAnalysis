{
 "cells": [
  {
   "cell_type": "markdown",
   "id": "4605e4d4-bdb1-44f4-8c5d-6347db191d5d",
   "metadata": {},
   "source": [
    "Setting Up Environment"
   ]
  },
  {
   "cell_type": "code",
   "execution_count": null,
   "id": "812197fc-2c1b-47cb-a953-a218aa91a782",
   "metadata": {},
   "outputs": [],
   "source": [
    "!pip install praw"
   ]
  },
  {
   "cell_type": "code",
   "execution_count": 3,
   "id": "9898ca2c-18a3-4f4f-8063-6135411a5881",
   "metadata": {
    "execution": {
     "iopub.execute_input": "2025-05-08T16:55:56.303078Z",
     "iopub.status.busy": "2025-05-08T16:55:56.302825Z",
     "iopub.status.idle": "2025-05-08T16:55:58.985793Z",
     "shell.execute_reply": "2025-05-08T16:55:58.984915Z",
     "shell.execute_reply.started": "2025-05-08T16:55:56.303061Z"
    }
   },
   "outputs": [],
   "source": [
    "import praw\n",
    "import time\n",
    "import pandas as pd\n",
    "from datetime import datetime\n",
    "import re\n",
    "import csv\n",
    "import matplotlib.pyplot as plt\n",
    "import matplotlib.dates as mdates\n",
    "import seaborn as sns"
   ]
  },
  {
   "cell_type": "code",
   "execution_count": null,
   "id": "01b9bfa9-5afb-4f35-bbef-e020c4c2f428",
   "metadata": {},
   "outputs": [],
   "source": [
    "reddit = praw.Reddit(client_id='********',\n",
    "                     client_secret='********',\n",
    "                     user_agent='myRodneyReedApp:v1.0 (by u/Dodson22')"
   ]
  },
  {
   "cell_type": "code",
   "execution_count": null,
   "id": "92ea9f8e-cfc1-4026-a18d-b77864fbbb31",
   "metadata": {},
   "outputs": [],
   "source": [
    "subreddits = reddit.subreddit(\"all\")"
   ]
  },
  {
   "cell_type": "markdown",
   "id": "776f80ed-8091-42a9-b4fe-67622030c668",
   "metadata": {},
   "source": [
    "I decided to avoid specifying subreddits or date ranges to maximize the discourse collected on this topic."
   ]
  },
  {
   "cell_type": "code",
   "execution_count": null,
   "id": "ee26dbd0-37fa-43a8-937c-2e59cb423f50",
   "metadata": {},
   "outputs": [],
   "source": [
    "# list of keywords\n",
    "keywords = '('Rodney Reed' OR '#RodneyReed' OR 'Justice for Rodney Reed' OR '#FreeRodneyReed' OR 'rodney reed' OR 'justice for rodney reed' OR 'free rodney reed')'"
   ]
  },
  {
   "cell_type": "markdown",
   "id": "0eab6e41-1416-47ff-8fee-bda104f15ace",
   "metadata": {},
   "source": [
    "Collection of Posts"
   ]
  },
  {
   "cell_type": "code",
   "execution_count": null,
   "id": "f58a4237-6b41-4b22-b08b-3a140ba06c7c",
   "metadata": {},
   "outputs": [],
   "source": [
    "# collect all post data\n",
    "all_posts = []\n",
    "limit = 1000\n",
    "\n",
    "for submission in subreddits.search(keywords, sort='new', time_filter='all', limit=limit):\n",
    "    all_posts.append({\n",
    "        'id': submission.id,\n",
    "        'title': submission.title,\n",
    "        'selftext': submission.selftext,\n",
    "        'created_utc': datetime.utcfromtimestamp(submission.created_utc),\n",
    "        'subreddit': submission.subreddit.display_name,\n",
    "        'author': str(submission.author),\n",
    "        'score': submission.score,\n",
    "        'num_comments': submission.num_comments,\n",
    "        'permalink': f\"https://www.reddit.com{submission.permalink}\",\n",
    "        'url': submission.url,\n",
    "        'is_crosspost': hasattr(submission, 'crosspost_parent'),\n",
    "        'is_link_post': submission.is_self is False,\n",
    "        'domain': submission.domain if not submission.is_self else None\n",
    "    })\n",
    "    time.sleep(1)"
   ]
  },
  {
   "cell_type": "code",
   "execution_count": null,
   "id": "45765f8b-32e2-4293-b7db-1b7cede38708",
   "metadata": {},
   "outputs": [],
   "source": [
    "# save to CSV\n",
    "df_posts = pd.DataFrame(all_posts)\n",
    "df_posts.to_csv('rodney_reed_reddit_posts.csv', index=False)\n",
    "print(f\"Collected {len(df_posts)} posts total.\")"
   ]
  },
  {
   "cell_type": "markdown",
   "id": "b52ec524-cccf-4c22-afa8-f9c8775fb530",
   "metadata": {},
   "source": [
    "Collected 222 posts total."
   ]
  },
  {
   "cell_type": "markdown",
   "id": "81ec9045-532e-4bd4-a3ca-2f51282214ec",
   "metadata": {},
   "source": [
    "Collection of Comments"
   ]
  },
  {
   "cell_type": "code",
   "execution_count": null,
   "id": "1b32c34b-9fac-4477-8e53-328633ac77b6",
   "metadata": {},
   "outputs": [],
   "source": [
    "# collect all comment data\n",
    "all_comments = []\n",
    "\n",
    "for post in all_posts:\n",
    "    submission = reddit.submission(id=post['id'])\n",
    "    submission.comments.replace_more(limit=None)  \n",
    "    \n",
    "    for comment in submission.comments.list():\n",
    "        all_comments.append({\n",
    "            'post_id': post['id'],\n",
    "            'comment_id': comment.id,\n",
    "            'author': str(comment.author),\n",
    "            'body': comment.body,\n",
    "            'score': comment.score,\n",
    "            'created_utc': comment.created_utc,\n",
    "            'is_submitter': comment.is_submitter,\n",
    "            'permalink': f\"https://reddit.com{comment.permalink}\",\n",
    "            'parent_id': comment.parent_id,\n",
    "            'depth': comment.depth\n",
    "        })\n",
    "    time.sleep(1)"
   ]
  },
  {
   "cell_type": "code",
   "execution_count": null,
   "id": "1a7a735f-7aa4-44b4-8e4b-a882ca9902ef",
   "metadata": {},
   "outputs": [],
   "source": [
    "# save comments to CSV \n",
    "df_comments = pd.DataFrame(all_comments)\n",
    "df_comments.to_csv('rodney_reed_reddit_comments.csv', index=False)\n",
    "print(f\"Collected {len(df_comments)} comments total.\")"
   ]
  },
  {
   "cell_type": "markdown",
   "id": "21d6154e-7761-48d7-a900-5ecab2c9f8ee",
   "metadata": {},
   "source": [
    "Collected 2235 comments total."
   ]
  },
  {
   "cell_type": "markdown",
   "id": "f685faaa-2348-4dca-8597-02ef6b35171d",
   "metadata": {},
   "source": [
    "Cleaning Posts and Comments"
   ]
  },
  {
   "cell_type": "code",
   "execution_count": 183,
   "id": "f39cc527-a175-4742-aeec-bc2ce3c55eae",
   "metadata": {},
   "outputs": [],
   "source": [
    "# load data for cleaning\n",
    "df_posts = pd.read_csv('rodney_reed_reddit_posts.csv')\n",
    "df_comments = pd.read_csv('rodney_reed_reddit_comments.csv')"
   ]
  },
  {
   "cell_type": "code",
   "execution_count": 186,
   "id": "c57c48fc-4393-4322-8089-038dccbdbe57",
   "metadata": {},
   "outputs": [],
   "source": [
    "# convert \"created_utc\" to date format as 'date'\n",
    "# posts\n",
    "df_posts['created_utc'] = pd.to_datetime(df_posts['created_utc'], errors='coerce')\n",
    "df_posts['date'] = df_posts['created_utc'].dt.date\n",
    "\n",
    "# comments\n",
    "df_comments['created_utc'] = pd.to_datetime(df_comments['created_utc'], unit='s', errors='coerce')\n",
    "df_comments['date'] = df_comments['created_utc'].dt.date"
   ]
  },
  {
   "cell_type": "code",
   "execution_count": 187,
   "id": "3ce2f1df-0e30-44d7-a71c-3279289a8eec",
   "metadata": {},
   "outputs": [],
   "source": [
    "# create a 'month' column\n",
    "df_posts['month'] = pd.to_datetime(df_posts['date']).dt.to_period('M').astype(str)\n",
    "df_comments['month'] = pd.to_datetime(df_comments['date']).dt.to_period('M').astype(str)"
   ]
  },
  {
   "cell_type": "code",
   "execution_count": 188,
   "id": "614ef126-7ff0-4326-8636-997bcd40eab7",
   "metadata": {},
   "outputs": [],
   "source": [
    "# remove deleted/removed content\n",
    "df_posts = df_posts[~df_posts['selftext'].isin(['[removed]', '[deleted]'])]\n",
    "df_comments = df_comments[~df_comments['body'].isin(['[removed]', '[deleted]'])]"
   ]
  },
  {
   "cell_type": "code",
   "execution_count": 189,
   "id": "0de38f7f-59ce-4e3f-b946-1d608a35cb7f",
   "metadata": {},
   "outputs": [],
   "source": [
    "# remove duplicates\n",
    "df_posts.drop_duplicates(subset='id', inplace=True)\n",
    "df_comments.drop_duplicates(subset='comment_id', inplace=True)"
   ]
  },
  {
   "cell_type": "code",
   "execution_count": 190,
   "id": "899d9158-1d26-4fbf-a53d-da7071eb614b",
   "metadata": {},
   "outputs": [],
   "source": [
    "# remove possible bots\n",
    "df_posts = df_posts[~df_posts['author'].str.contains('bot', case=False, na=False)]\n",
    "df_posts = df_posts[~df_posts['subreddit'].str.contains('bot', case=False, na=False)]\n",
    "df_comments = df_comments[~df_comments['author'].str.contains('bot', case=False, na=False)]"
   ]
  },
  {
   "cell_type": "code",
   "execution_count": 191,
   "id": "2691e050-3303-4b9e-9c77-1884750ea54b",
   "metadata": {},
   "outputs": [],
   "source": [
    "# remove 'author' column to protect private information\n",
    "df_posts = df_posts.drop(columns=['author'])\n",
    "df_comments = df_comments.drop(columns=['author'])"
   ]
  },
  {
   "cell_type": "code",
   "execution_count": 192,
   "id": "e98429d8-2440-4945-a9f3-2aa270453219",
   "metadata": {},
   "outputs": [],
   "source": [
    "# function for basic text cleaning\n",
    "def clean_text(text):\n",
    "    if pd.isnull(text):\n",
    "        return \"\"\n",
    "    text = text.lower()  # lowercase\n",
    "    text = re.sub(r'http\\S+|www\\S+', \"\", text)  # remove URLs\n",
    "    text = re.sub(r'[^a-zA-Z\\s]', \"\", text)  # remove special characters/numbers\n",
    "    text = re.sub(r'\\s+', \" \", text)  # remove extra spaces\n",
    "    return text.strip()"
   ]
  },
  {
   "cell_type": "code",
   "execution_count": 193,
   "id": "a98684d7-efbf-477a-9cb2-ab227b288ec9",
   "metadata": {},
   "outputs": [],
   "source": [
    "# combine and convert posts title and selftext\n",
    "df_posts['text'] = df_posts['title'].fillna(\"\") + \" \" + df_posts['selftext'].fillna(\"\").astype(str)\n",
    "# convert comments body to string\n",
    "df_comments['text'] = df_comments['body'].fillna(\"\").astype(str)\n",
    "\n",
    "# clean texts\n",
    "df_posts['cleaned_text'] = df_posts['text'].apply(clean_text)\n",
    "df_comments['cleaned_text'] = df_comments['text'].apply(clean_text)"
   ]
  },
  {
   "cell_type": "code",
   "execution_count": 194,
   "id": "5c7293f9-6025-4ca4-9e78-7b7631357732",
   "metadata": {},
   "outputs": [],
   "source": [
    "# save clean data to CSV for further analysis\n",
    "df_posts.to_csv('cleaned_reddit_posts.csv', index=False)\n",
    "df_comments.to_csv('cleaned_reddit_comments.csv', index=False)"
   ]
  },
  {
   "cell_type": "markdown",
   "id": "f829cbcb-7218-4f39-905b-ac0014e3c7a7",
   "metadata": {},
   "source": [
    "Exploratory Data Analysis"
   ]
  },
  {
   "cell_type": "code",
   "execution_count": 4,
   "id": "e39ca0ba-4bcc-4f99-bb7e-c9384142f226",
   "metadata": {
    "execution": {
     "iopub.execute_input": "2025-05-08T16:56:04.418584Z",
     "iopub.status.busy": "2025-05-08T16:56:04.418123Z",
     "iopub.status.idle": "2025-05-08T16:56:04.566632Z",
     "shell.execute_reply": "2025-05-08T16:56:04.565704Z",
     "shell.execute_reply.started": "2025-05-08T16:56:04.418556Z"
    }
   },
   "outputs": [],
   "source": [
    "# load data\n",
    "df_posts = pd.read_csv('cleaned_reddit_posts.csv')\n",
    "df_comments = pd.read_csv('cleaned_reddit_comments.csv')"
   ]
  },
  {
   "cell_type": "code",
   "execution_count": 5,
   "id": "d61e13c6-d15b-4fa2-8e81-7210fc03c0a2",
   "metadata": {
    "execution": {
     "iopub.execute_input": "2025-05-08T16:56:06.664117Z",
     "iopub.status.busy": "2025-05-08T16:56:06.663730Z",
     "iopub.status.idle": "2025-05-08T16:56:06.672736Z",
     "shell.execute_reply": "2025-05-08T16:56:06.671945Z",
     "shell.execute_reply.started": "2025-05-08T16:56:06.664086Z"
    }
   },
   "outputs": [
    {
     "name": "stdout",
     "output_type": "stream",
     "text": [
      "There are 134 posts and 2114 comments after the cleaning process.\n"
     ]
    }
   ],
   "source": [
    "# total number of posts and comments\n",
    "total_posts = len(df_posts['id'])\n",
    "total_comments = len(df_comments['comment_id'])\n",
    "\n",
    "print(f'There are {total_posts} posts and {total_comments} comments after the cleaning process.')"
   ]
  },
  {
   "cell_type": "code",
   "execution_count": 173,
   "id": "0881842b-6390-4c94-8913-7c89595729df",
   "metadata": {},
   "outputs": [
    {
     "name": "stdout",
     "output_type": "stream",
     "text": [
      "<class 'pandas.core.frame.DataFrame'>\n",
      "RangeIndex: 134 entries, 0 to 133\n",
      "Data columns (total 16 columns):\n",
      " #   Column        Non-Null Count  Dtype         \n",
      "---  ------        --------------  -----         \n",
      " 0   id            134 non-null    object        \n",
      " 1   title         134 non-null    object        \n",
      " 2   selftext      32 non-null     object        \n",
      " 3   created_utc   134 non-null    datetime64[ns]\n",
      " 4   subreddit     134 non-null    object        \n",
      " 5   score         134 non-null    int64         \n",
      " 6   num_comments  134 non-null    int64         \n",
      " 7   permalink     134 non-null    object        \n",
      " 8   url           134 non-null    object        \n",
      " 9   is_crosspost  134 non-null    bool          \n",
      " 10  is_link_post  134 non-null    bool          \n",
      " 11  domain        102 non-null    object        \n",
      " 12  date          134 non-null    object        \n",
      " 13  text          134 non-null    object        \n",
      " 14  cleaned_text  134 non-null    object        \n",
      " 15  month         134 non-null    object        \n",
      "dtypes: bool(2), datetime64[ns](1), int64(2), object(11)\n",
      "memory usage: 15.0+ KB\n"
     ]
    }
   ],
   "source": [
    "# view post dataframe\n",
    "df_posts.info()"
   ]
  },
  {
   "cell_type": "code",
   "execution_count": 174,
   "id": "82f01240-36c6-4445-9c3a-278cc9f1ce9c",
   "metadata": {},
   "outputs": [
    {
     "name": "stdout",
     "output_type": "stream",
     "text": [
      "<class 'pandas.core.frame.DataFrame'>\n",
      "RangeIndex: 2114 entries, 0 to 2113\n",
      "Data columns (total 13 columns):\n",
      " #   Column        Non-Null Count  Dtype         \n",
      "---  ------        --------------  -----         \n",
      " 0   post_id       2114 non-null   object        \n",
      " 1   comment_id    2114 non-null   object        \n",
      " 2   body          2114 non-null   object        \n",
      " 3   score         2114 non-null   int64         \n",
      " 4   created_utc   2114 non-null   datetime64[ns]\n",
      " 5   is_submitter  2114 non-null   bool          \n",
      " 6   permalink     2114 non-null   object        \n",
      " 7   parent_id     2114 non-null   object        \n",
      " 8   depth         2114 non-null   int64         \n",
      " 9   date          2114 non-null   object        \n",
      " 10  text          2114 non-null   object        \n",
      " 11  cleaned_text  2114 non-null   object        \n",
      " 12  month         2114 non-null   object        \n",
      "dtypes: bool(1), datetime64[ns](1), int64(2), object(9)\n",
      "memory usage: 200.4+ KB\n"
     ]
    }
   ],
   "source": [
    "# view comment dataframe\n",
    "df_comments.info()"
   ]
  },
  {
   "cell_type": "code",
   "execution_count": 6,
   "id": "907b5d6a-e17e-40d9-b410-96e08c7e66d1",
   "metadata": {
    "execution": {
     "iopub.execute_input": "2025-05-08T16:56:18.386297Z",
     "iopub.status.busy": "2025-05-08T16:56:18.386040Z",
     "iopub.status.idle": "2025-05-08T16:56:18.394382Z",
     "shell.execute_reply": "2025-05-08T16:56:18.393776Z",
     "shell.execute_reply.started": "2025-05-08T16:56:18.386279Z"
    }
   },
   "outputs": [
    {
     "data": {
      "text/plain": [
       "month\n",
       "2019-11    11\n",
       "2019-12     3\n",
       "2020-02     7\n",
       "2020-03     2\n",
       "2020-04     1\n",
       "2020-05     3\n",
       "2020-07     4\n",
       "2020-12     1\n",
       "2021-01     2\n",
       "2021-03     4\n",
       "2021-06     1\n",
       "2021-07    12\n",
       "2021-08     1\n",
       "2021-09     2\n",
       "2021-10     2\n",
       "2021-11    18\n",
       "2022-02     1\n",
       "2022-04     7\n",
       "2022-05     1\n",
       "2022-06     1\n",
       "2022-09     1\n",
       "2022-10    13\n",
       "2023-01     1\n",
       "2023-04    15\n",
       "2023-05     1\n",
       "2023-06     6\n",
       "2023-07     6\n",
       "2023-11     1\n",
       "2024-05     1\n",
       "2024-07     3\n",
       "2024-08     1\n",
       "2024-09     1\n",
       "Name: count, dtype: int64"
      ]
     },
     "metadata": {},
     "output_type": "display_data"
    }
   ],
   "source": [
    "# posts by month\n",
    "posts_by_month = df_posts['month'].value_counts().sort_index()\n",
    "display(posts_by_month)"
   ]
  },
  {
   "cell_type": "code",
   "execution_count": 7,
   "id": "6c5f893c-0834-4cf0-b43b-684e6e3fb260",
   "metadata": {
    "execution": {
     "iopub.execute_input": "2025-05-08T16:56:22.119470Z",
     "iopub.status.busy": "2025-05-08T16:56:22.119187Z",
     "iopub.status.idle": "2025-05-08T16:56:22.125255Z",
     "shell.execute_reply": "2025-05-08T16:56:22.124720Z",
     "shell.execute_reply.started": "2025-05-08T16:56:22.119452Z"
    }
   },
   "outputs": [
    {
     "data": {
      "text/plain": [
       "month\n",
       "2019-11    188\n",
       "2019-12     42\n",
       "2020-01      6\n",
       "2020-02      7\n",
       "2020-03     19\n",
       "2020-05     57\n",
       "2020-07     34\n",
       "2020-08      4\n",
       "2020-11      3\n",
       "2020-12    181\n",
       "2021-01     16\n",
       "2021-02      5\n",
       "2021-03     34\n",
       "2021-04      3\n",
       "2021-05     26\n",
       "2021-06     56\n",
       "2021-07     83\n",
       "2021-08     22\n",
       "2021-09     49\n",
       "2021-10     14\n",
       "2021-11     68\n",
       "2021-12      3\n",
       "2022-01     18\n",
       "2022-02      3\n",
       "2022-04     60\n",
       "2022-05     72\n",
       "2022-06     38\n",
       "2022-07     78\n",
       "2022-08     17\n",
       "2022-09    129\n",
       "2022-10     75\n",
       "2022-11      2\n",
       "2022-12      4\n",
       "2023-01    102\n",
       "2023-02     22\n",
       "2023-03      5\n",
       "2023-04    296\n",
       "2023-05     42\n",
       "2023-06     43\n",
       "2023-07     44\n",
       "2023-08     12\n",
       "2023-09      4\n",
       "2023-10      8\n",
       "2023-11     26\n",
       "2023-12      1\n",
       "2024-01      3\n",
       "2024-02      6\n",
       "2024-05      1\n",
       "2024-06      1\n",
       "2024-07     37\n",
       "2024-08     23\n",
       "2024-09      7\n",
       "2024-10      5\n",
       "2024-11      1\n",
       "2024-12      6\n",
       "2025-01      2\n",
       "2025-02      1\n",
       "Name: count, dtype: int64"
      ]
     },
     "metadata": {},
     "output_type": "display_data"
    }
   ],
   "source": [
    "# comments by month\n",
    "comments_by_month = df_comments['month'].value_counts().sort_index()\n",
    "display(comments_by_month)"
   ]
  },
  {
   "cell_type": "code",
   "execution_count": 10,
   "id": "6644f71c-5c8e-4048-8d19-9405045a7eae",
   "metadata": {
    "execution": {
     "iopub.execute_input": "2025-05-08T17:22:02.709702Z",
     "iopub.status.busy": "2025-05-08T17:22:02.709112Z",
     "iopub.status.idle": "2025-05-08T17:22:03.186064Z",
     "shell.execute_reply": "2025-05-08T17:22:03.185118Z",
     "shell.execute_reply.started": "2025-05-08T17:22:02.709675Z"
    }
   },
   "outputs": [
    {
     "data": {
      "image/png": "[encoded data removed]",
      "text/plain": [
       "<Figure size 1200x600 with 1 Axes>"
      ]
     },
     "metadata": {},
     "output_type": "display_data"
    }
   ],
   "source": [
    "# Post and Comments Over Time\n",
    "# set index for posts\n",
    "posts_by_month.index = pd.PeriodIndex(posts_by_month.index, freq='M')\n",
    "posts_by_month.index = posts_by_month.index.to_timestamp()\n",
    "# set index for comments\n",
    "comments_by_month.index = pd.PeriodIndex(comments_by_month.index, freq='M')\n",
    "comments_by_month.index = comments_by_month.index.to_timestamp()\n",
    "\n",
    "plt.figure(figsize=(12, 6))\n",
    "plt.plot(posts_by_month.index,\n",
    "         posts_by_month,\n",
    "         label='Posts per Month', \n",
    "         color='#1865ab'\n",
    "         )\n",
    "plt.plot(comments_by_month.index,\n",
    "         comments_by_month,\n",
    "         label='Comments per Month', \n",
    "         color='#f46530'\n",
    "        )\n",
    "\n",
    "plt.title('Posts and Comments Over Time')\n",
    "plt.xlabel('Month')\n",
    "plt.ylabel('Count')\n",
    "plt.legend()\n",
    "plt.xticks(rotation=45)\n",
    "plt.tight_layout()\n",
    "plt.show()"
   ]
  },
  {
   "cell_type": "markdown",
   "id": "d0d2c057-3ea0-421a-a812-388da190544e",
   "metadata": {},
   "source": [
    "Exploratory Analysis of Posts"
   ]
  },
  {
   "cell_type": "code",
   "execution_count": 209,
   "id": "6b591980-70d5-4c8c-a6c3-de06a169ad3c",
   "metadata": {},
   "outputs": [
    {
     "name": "stdout",
     "output_type": "stream",
     "text": [
      "Posts were collected from 2019-11-22 to 2024-09-19.\n"
     ]
    }
   ],
   "source": [
    "# date range\n",
    "posts_start = df_posts['date'].min()\n",
    "posts_end = df_posts['date'].max()\n",
    "\n",
    "print(f'Posts were collected from {posts_start} to {posts_end}.')"
   ]
  },
  {
   "cell_type": "code",
   "execution_count": 140,
   "id": "8e0ce1c5-0bf4-49a4-a52b-f1ca3795b365",
   "metadata": {},
   "outputs": [
    {
     "name": "stdout",
     "output_type": "stream",
     "text": [
      "Average post length: 158 words\n"
     ]
    }
   ],
   "source": [
    "# average length of posts\n",
    "post_text_length = df_posts['selftext'].fillna('').apply(lambda x: len(x.split()))\n",
    "avg_length_post = round(post_text_length.mean())\n",
    "print(f'Average post length: {avg_length_post} words')"
   ]
  },
  {
   "cell_type": "code",
   "execution_count": 119,
   "id": "da963f47-97b8-4442-9ad0-ba2d89aacd26",
   "metadata": {},
   "outputs": [
    {
     "name": "stdout",
     "output_type": "stream",
     "text": [
      "There are 3 posts shared from another subreddit.\n"
     ]
    }
   ],
   "source": [
    "# number of crossposts\n",
    "crossposts = df_posts[df_posts['is_crosspost'] == True]\n",
    "print(f'There are {crossposts.shape[0]} posts shared from another subreddit.')"
   ]
  },
  {
   "cell_type": "code",
   "execution_count": 118,
   "id": "a4717fd3-efcb-4857-a0fe-c63c24fe6c83",
   "metadata": {},
   "outputs": [
    {
     "name": "stdout",
     "output_type": "stream",
     "text": [
      "There are 102 posts with links attached.\n"
     ]
    }
   ],
   "source": [
    "# number of linked post\n",
    "link_post = df_posts[df_posts['is_link_post'] == True]\n",
    "print(f'There are {link_post.shape[0]} posts with links attached.')"
   ]
  },
  {
   "cell_type": "code",
   "execution_count": 125,
   "id": "64f2a11c-6806-47b8-ac0d-5c425ac30541",
   "metadata": {},
   "outputs": [
    {
     "data": {
      "text/plain": [
       "domain\n",
       "theintercept.com      19\n",
       "nytimes.com           15\n",
       "cnn.com                7\n",
       "liberationnews.org     7\n",
       "kvue.com               6\n",
       "kxan.com               6\n",
       "chron.com              4\n",
       "statesman.com          4\n",
       "youtube.com            3\n",
       "cbsaustin.com          3\n",
       "Name: count, dtype: int64"
      ]
     },
     "metadata": {},
     "output_type": "display_data"
    }
   ],
   "source": [
    "# top 10 domains linked\n",
    "top_domains = df_posts['domain'].value_counts().head(10)\n",
    "display(top_domains)"
   ]
  },
  {
   "cell_type": "code",
   "execution_count": 227,
   "id": "a6de293b-acbd-499b-b49a-e73a9c3be9ea",
   "metadata": {},
   "outputs": [
    {
     "name": "stdout",
     "output_type": "stream",
     "text": [
      "Average Number of Comments: 16.761194029850746 \n",
      "Lowest Number of Comments: 0 \n",
      "Highest Number of Comments: 228 \n",
      "\n",
      "count    134.000000\n",
      "mean      16.761194\n",
      "std       38.991840\n",
      "min        0.000000\n",
      "25%        0.000000\n",
      "50%        1.000000\n",
      "75%       10.750000\n",
      "max      228.000000\n",
      "Name: num_comments, dtype: float64\n"
     ]
    }
   ],
   "source": [
    "# number of comments per post statistics\n",
    "post_num_comments = df_posts['num_comments']\n",
    "print(f'Average Number of Comments: {post_num_comments.mean()} \\nLowest Number of Comments: {post_num_comments.min()} \\nHighest Number of Comments: {post_num_comments.max()} \\n')\n",
    "print(post_num_comments.describe())"
   ]
  },
  {
   "cell_type": "code",
   "execution_count": 50,
   "id": "21c8a0fe-8cdf-4006-aebf-0e8e2fc7b5dc",
   "metadata": {},
   "outputs": [
    {
     "data": {
      "text/html": [
       "<div>\n",
       "<style scoped>\n",
       "    .dataframe tbody tr th:only-of-type {\n",
       "        vertical-align: middle;\n",
       "    }\n",
       "\n",
       "    .dataframe tbody tr th {\n",
       "        vertical-align: top;\n",
       "    }\n",
       "\n",
       "    .dataframe thead th {\n",
       "        text-align: right;\n",
       "    }\n",
       "</style>\n",
       "<table border=\"1\" class=\"dataframe\">\n",
       "  <thead>\n",
       "    <tr style=\"text-align: right;\">\n",
       "      <th></th>\n",
       "      <th>title</th>\n",
       "      <th>subreddit</th>\n",
       "      <th>num_comments</th>\n",
       "      <th>score</th>\n",
       "    </tr>\n",
       "  </thead>\n",
       "  <tbody>\n",
       "    <tr>\n",
       "      <th>102</th>\n",
       "      <td>Kim Kardashian and other celebs believe Rodney...</td>\n",
       "      <td>UnresolvedMysteries</td>\n",
       "      <td>228</td>\n",
       "      <td>211</td>\n",
       "    </tr>\n",
       "    <tr>\n",
       "      <th>22</th>\n",
       "      <td>Supreme Court Lets Rodney Reed, a Texas Death ...</td>\n",
       "      <td>politics</td>\n",
       "      <td>172</td>\n",
       "      <td>3665</td>\n",
       "    </tr>\n",
       "    <tr>\n",
       "      <th>50</th>\n",
       "      <td>Question regarding Rodney Reed (convicted of m...</td>\n",
       "      <td>UnresolvedMysteries</td>\n",
       "      <td>167</td>\n",
       "      <td>87</td>\n",
       "    </tr>\n",
       "    <tr>\n",
       "      <th>123</th>\n",
       "      <td>List of True Crime Podcasts - one case per pod...</td>\n",
       "      <td>TrueCrimePodcasts</td>\n",
       "      <td>161</td>\n",
       "      <td>853</td>\n",
       "    </tr>\n",
       "    <tr>\n",
       "      <th>49</th>\n",
       "      <td>Upcoming Supreme Court cases that could change...</td>\n",
       "      <td>Keep_Track</td>\n",
       "      <td>133</td>\n",
       "      <td>1448</td>\n",
       "    </tr>\n",
       "    <tr>\n",
       "      <th>58</th>\n",
       "      <td>SCOTUS Agrees to Take Up Death Row Inmate Rodn...</td>\n",
       "      <td>scotus</td>\n",
       "      <td>128</td>\n",
       "      <td>149</td>\n",
       "    </tr>\n",
       "    <tr>\n",
       "      <th>45</th>\n",
       "      <td>Texas Claims It’s “Too Late” for DNA Testing T...</td>\n",
       "      <td>Austin</td>\n",
       "      <td>110</td>\n",
       "      <td>423</td>\n",
       "    </tr>\n",
       "    <tr>\n",
       "      <th>35</th>\n",
       "      <td>New(ish) listener here….I just got to episode ...</td>\n",
       "      <td>MorbidPodcast</td>\n",
       "      <td>104</td>\n",
       "      <td>31</td>\n",
       "    </tr>\n",
       "    <tr>\n",
       "      <th>33</th>\n",
       "      <td>U.S. Supreme Court lets Texas death row inmate...</td>\n",
       "      <td>Austin</td>\n",
       "      <td>95</td>\n",
       "      <td>287</td>\n",
       "    </tr>\n",
       "    <tr>\n",
       "      <th>88</th>\n",
       "      <td>Can Rodney Reed Be Freed? - New testimony rive...</td>\n",
       "      <td>Austin</td>\n",
       "      <td>83</td>\n",
       "      <td>54</td>\n",
       "    </tr>\n",
       "  </tbody>\n",
       "</table>\n",
       "</div>"
      ],
      "text/plain": [
       "                                                 title            subreddit  \\\n",
       "102  Kim Kardashian and other celebs believe Rodney...  UnresolvedMysteries   \n",
       "22   Supreme Court Lets Rodney Reed, a Texas Death ...             politics   \n",
       "50   Question regarding Rodney Reed (convicted of m...  UnresolvedMysteries   \n",
       "123  List of True Crime Podcasts - one case per pod...    TrueCrimePodcasts   \n",
       "49   Upcoming Supreme Court cases that could change...           Keep_Track   \n",
       "58   SCOTUS Agrees to Take Up Death Row Inmate Rodn...               scotus   \n",
       "45   Texas Claims It’s “Too Late” for DNA Testing T...               Austin   \n",
       "35   New(ish) listener here….I just got to episode ...        MorbidPodcast   \n",
       "33   U.S. Supreme Court lets Texas death row inmate...               Austin   \n",
       "88   Can Rodney Reed Be Freed? - New testimony rive...               Austin   \n",
       "\n",
       "     num_comments  score  \n",
       "102           228    211  \n",
       "22            172   3665  \n",
       "50            167     87  \n",
       "123           161    853  \n",
       "49            133   1448  \n",
       "58            128    149  \n",
       "45            110    423  \n",
       "35            104     31  \n",
       "33             95    287  \n",
       "88             83     54  "
      ]
     },
     "metadata": {},
     "output_type": "display_data"
    }
   ],
   "source": [
    "# post with the most comments\n",
    "most_commented = df_posts.sort_values(by='num_comments', ascending=False)[['title', 'subreddit', 'num_comments', 'score']].head(10)\n",
    "display(most_commented)"
   ]
  },
  {
   "cell_type": "code",
   "execution_count": 49,
   "id": "0b98a62d-0229-4ee5-8f1c-f42c083df224",
   "metadata": {},
   "outputs": [
    {
     "data": {
      "text/html": [
       "<div>\n",
       "<style scoped>\n",
       "    .dataframe tbody tr th:only-of-type {\n",
       "        vertical-align: middle;\n",
       "    }\n",
       "\n",
       "    .dataframe tbody tr th {\n",
       "        vertical-align: top;\n",
       "    }\n",
       "\n",
       "    .dataframe thead th {\n",
       "        text-align: right;\n",
       "    }\n",
       "</style>\n",
       "<table border=\"1\" class=\"dataframe\">\n",
       "  <thead>\n",
       "    <tr style=\"text-align: right;\">\n",
       "      <th></th>\n",
       "      <th>title</th>\n",
       "      <th>subreddit</th>\n",
       "      <th>num_comments</th>\n",
       "      <th>score</th>\n",
       "    </tr>\n",
       "  </thead>\n",
       "  <tbody>\n",
       "    <tr>\n",
       "      <th>128</th>\n",
       "      <td>Guess Who Is Supporting Rodney Reed Now</td>\n",
       "      <td>atheismisunstoppable</td>\n",
       "      <td>0</td>\n",
       "      <td>13</td>\n",
       "    </tr>\n",
       "    <tr>\n",
       "      <th>12</th>\n",
       "      <td>Dozens of Witnesses Say Rodney Reed Is Innocen...</td>\n",
       "      <td>Intercept</td>\n",
       "      <td>0</td>\n",
       "      <td>2</td>\n",
       "    </tr>\n",
       "    <tr>\n",
       "      <th>78</th>\n",
       "      <td>Recommendation about a new trial for Rodney Re...</td>\n",
       "      <td>BastropTX</td>\n",
       "      <td>0</td>\n",
       "      <td>8</td>\n",
       "    </tr>\n",
       "    <tr>\n",
       "      <th>81</th>\n",
       "      <td>Rodney Reed</td>\n",
       "      <td>TrueCrimeDiscussion</td>\n",
       "      <td>0</td>\n",
       "      <td>3</td>\n",
       "    </tr>\n",
       "    <tr>\n",
       "      <th>84</th>\n",
       "      <td>LIVE UPDATES: Forensic pathologist disagrees w...</td>\n",
       "      <td>BastropTX</td>\n",
       "      <td>0</td>\n",
       "      <td>4</td>\n",
       "    </tr>\n",
       "    <tr>\n",
       "      <th>85</th>\n",
       "      <td>False memories, time of death analyzed during ...</td>\n",
       "      <td>BastropTX</td>\n",
       "      <td>0</td>\n",
       "      <td>5</td>\n",
       "    </tr>\n",
       "    <tr>\n",
       "      <th>86</th>\n",
       "      <td>Day 5: Attorneys for the state begin their cas...</td>\n",
       "      <td>BastropTX</td>\n",
       "      <td>0</td>\n",
       "      <td>3</td>\n",
       "    </tr>\n",
       "    <tr>\n",
       "      <th>69</th>\n",
       "      <td>Rodney Reed Should Not Be Retried in Texas Mur...</td>\n",
       "      <td>nytimes</td>\n",
       "      <td>0</td>\n",
       "      <td>3</td>\n",
       "    </tr>\n",
       "    <tr>\n",
       "      <th>70</th>\n",
       "      <td>[National] - Rodney Reed Should Not Be Retried...</td>\n",
       "      <td>AutoNewspaper</td>\n",
       "      <td>0</td>\n",
       "      <td>2</td>\n",
       "    </tr>\n",
       "    <tr>\n",
       "      <th>71</th>\n",
       "      <td>[National] - Rodney Reed Should Not Be Retried...</td>\n",
       "      <td>NYTauto</td>\n",
       "      <td>0</td>\n",
       "      <td>2</td>\n",
       "    </tr>\n",
       "  </tbody>\n",
       "</table>\n",
       "</div>"
      ],
      "text/plain": [
       "                                                 title             subreddit  \\\n",
       "128            Guess Who Is Supporting Rodney Reed Now  atheismisunstoppable   \n",
       "12   Dozens of Witnesses Say Rodney Reed Is Innocen...             Intercept   \n",
       "78   Recommendation about a new trial for Rodney Re...             BastropTX   \n",
       "81                                         Rodney Reed   TrueCrimeDiscussion   \n",
       "84   LIVE UPDATES: Forensic pathologist disagrees w...             BastropTX   \n",
       "85   False memories, time of death analyzed during ...             BastropTX   \n",
       "86   Day 5: Attorneys for the state begin their cas...             BastropTX   \n",
       "69   Rodney Reed Should Not Be Retried in Texas Mur...               nytimes   \n",
       "70   [National] - Rodney Reed Should Not Be Retried...         AutoNewspaper   \n",
       "71   [National] - Rodney Reed Should Not Be Retried...               NYTauto   \n",
       "\n",
       "     num_comments  score  \n",
       "128             0     13  \n",
       "12              0      2  \n",
       "78              0      8  \n",
       "81              0      3  \n",
       "84              0      4  \n",
       "85              0      5  \n",
       "86              0      3  \n",
       "69              0      3  \n",
       "70              0      2  \n",
       "71              0      2  "
      ]
     },
     "metadata": {},
     "output_type": "display_data"
    }
   ],
   "source": [
    "# post with the least comments\n",
    "least_commented = df_posts.sort_values(by='num_comments', ascending=True)[['title', 'subreddit', 'num_comments', 'score']].head(10)\n",
    "display(least_commented)"
   ]
  },
  {
   "cell_type": "code",
   "execution_count": 121,
   "id": "56b1ded9-dd58-4c30-a606-7dde5b92459f",
   "metadata": {},
   "outputs": [
    {
     "data": {
      "image/png": "[encoded data removed]",
      "text/plain": [
       "<Figure size 400x600 with 1 Axes>"
      ]
     },
     "metadata": {},
     "output_type": "display_data"
    }
   ],
   "source": [
    "plt.figure(figsize=(4, 6))\n",
    "sns.boxplot(y=df_posts['num_comments'], color='#92b281')\n",
    "\n",
    "plt.title('Post Comment Distribution')\n",
    "\n",
    "plt.tight_layout()\n",
    "plt.show()"
   ]
  },
  {
   "cell_type": "code",
   "execution_count": 226,
   "id": "68552903-4045-45fc-a2db-65c9b5fa9fbb",
   "metadata": {},
   "outputs": [
    {
     "name": "stdout",
     "output_type": "stream",
     "text": [
      "Average Post Score: 65.13432835820896 \n",
      "Lowest Score: 0 \n",
      "Highest Score: 3665 \n",
      "\n"
     ]
    },
    {
     "data": {
      "text/plain": [
       "count     134.000000\n",
       "mean       65.134328\n",
       "std       348.217648\n",
       "min         0.000000\n",
       "25%         1.000000\n",
       "50%         3.000000\n",
       "75%        16.750000\n",
       "max      3665.000000\n",
       "Name: score, dtype: float64"
      ]
     },
     "metadata": {},
     "output_type": "display_data"
    }
   ],
   "source": [
    "# post score statistics\n",
    "post_score = df_posts['score']\n",
    "print(f'Average Post Score: {post_score.mean()} \\nLowest Score: {post_score.min()} \\nHighest Score: {post_score.max()} \\n')\n",
    "display(post_score.describe())"
   ]
  },
  {
   "cell_type": "code",
   "execution_count": 48,
   "id": "4e54e1ee-2f55-43f2-81b3-625907a70580",
   "metadata": {},
   "outputs": [
    {
     "data": {
      "text/html": [
       "<div>\n",
       "<style scoped>\n",
       "    .dataframe tbody tr th:only-of-type {\n",
       "        vertical-align: middle;\n",
       "    }\n",
       "\n",
       "    .dataframe tbody tr th {\n",
       "        vertical-align: top;\n",
       "    }\n",
       "\n",
       "    .dataframe thead th {\n",
       "        text-align: right;\n",
       "    }\n",
       "</style>\n",
       "<table border=\"1\" class=\"dataframe\">\n",
       "  <thead>\n",
       "    <tr style=\"text-align: right;\">\n",
       "      <th></th>\n",
       "      <th>title</th>\n",
       "      <th>subreddit</th>\n",
       "      <th>score</th>\n",
       "      <th>num_comments</th>\n",
       "      <th>date</th>\n",
       "    </tr>\n",
       "  </thead>\n",
       "  <tbody>\n",
       "    <tr>\n",
       "      <th>22</th>\n",
       "      <td>Supreme Court Lets Rodney Reed, a Texas Death ...</td>\n",
       "      <td>politics</td>\n",
       "      <td>3665</td>\n",
       "      <td>172</td>\n",
       "      <td>2023-04-29 22:45:18</td>\n",
       "    </tr>\n",
       "    <tr>\n",
       "      <th>49</th>\n",
       "      <td>Upcoming Supreme Court cases that could change...</td>\n",
       "      <td>Keep_Track</td>\n",
       "      <td>1448</td>\n",
       "      <td>133</td>\n",
       "      <td>2022-09-07 13:58:54</td>\n",
       "    </tr>\n",
       "    <tr>\n",
       "      <th>123</th>\n",
       "      <td>List of True Crime Podcasts - one case per pod...</td>\n",
       "      <td>TrueCrimePodcasts</td>\n",
       "      <td>853</td>\n",
       "      <td>161</td>\n",
       "      <td>2019-11-27 10:37:14</td>\n",
       "    </tr>\n",
       "    <tr>\n",
       "      <th>45</th>\n",
       "      <td>Texas Claims It’s “Too Late” for DNA Testing T...</td>\n",
       "      <td>Austin</td>\n",
       "      <td>423</td>\n",
       "      <td>110</td>\n",
       "      <td>2022-10-10 21:31:21</td>\n",
       "    </tr>\n",
       "    <tr>\n",
       "      <th>33</th>\n",
       "      <td>U.S. Supreme Court lets Texas death row inmate...</td>\n",
       "      <td>Austin</td>\n",
       "      <td>287</td>\n",
       "      <td>95</td>\n",
       "      <td>2023-04-19 17:10:54</td>\n",
       "    </tr>\n",
       "    <tr>\n",
       "      <th>102</th>\n",
       "      <td>Kim Kardashian and other celebs believe Rodney...</td>\n",
       "      <td>UnresolvedMysteries</td>\n",
       "      <td>211</td>\n",
       "      <td>228</td>\n",
       "      <td>2020-12-09 19:58:37</td>\n",
       "    </tr>\n",
       "    <tr>\n",
       "      <th>21</th>\n",
       "      <td>Supreme Court Lets Rodney Reed, a Texas Death ...</td>\n",
       "      <td>law</td>\n",
       "      <td>204</td>\n",
       "      <td>14</td>\n",
       "      <td>2023-04-29 23:51:39</td>\n",
       "    </tr>\n",
       "    <tr>\n",
       "      <th>58</th>\n",
       "      <td>SCOTUS Agrees to Take Up Death Row Inmate Rodn...</td>\n",
       "      <td>scotus</td>\n",
       "      <td>149</td>\n",
       "      <td>128</td>\n",
       "      <td>2022-04-25 15:28:33</td>\n",
       "    </tr>\n",
       "    <tr>\n",
       "      <th>7</th>\n",
       "      <td>Jordan Smith - Dozens of Witnesses Say Rodney ...</td>\n",
       "      <td>law</td>\n",
       "      <td>93</td>\n",
       "      <td>38</td>\n",
       "      <td>2023-07-10 03:31:51</td>\n",
       "    </tr>\n",
       "    <tr>\n",
       "      <th>34</th>\n",
       "      <td>In Reed v Goertz, the Supreme Court revives ca...</td>\n",
       "      <td>scotus</td>\n",
       "      <td>88</td>\n",
       "      <td>28</td>\n",
       "      <td>2023-04-19 14:14:17</td>\n",
       "    </tr>\n",
       "  </tbody>\n",
       "</table>\n",
       "</div>"
      ],
      "text/plain": [
       "                                                 title            subreddit  \\\n",
       "22   Supreme Court Lets Rodney Reed, a Texas Death ...             politics   \n",
       "49   Upcoming Supreme Court cases that could change...           Keep_Track   \n",
       "123  List of True Crime Podcasts - one case per pod...    TrueCrimePodcasts   \n",
       "45   Texas Claims It’s “Too Late” for DNA Testing T...               Austin   \n",
       "33   U.S. Supreme Court lets Texas death row inmate...               Austin   \n",
       "102  Kim Kardashian and other celebs believe Rodney...  UnresolvedMysteries   \n",
       "21   Supreme Court Lets Rodney Reed, a Texas Death ...                  law   \n",
       "58   SCOTUS Agrees to Take Up Death Row Inmate Rodn...               scotus   \n",
       "7    Jordan Smith - Dozens of Witnesses Say Rodney ...                  law   \n",
       "34   In Reed v Goertz, the Supreme Court revives ca...               scotus   \n",
       "\n",
       "     score  num_comments                 date  \n",
       "22    3665           172  2023-04-29 22:45:18  \n",
       "49    1448           133  2022-09-07 13:58:54  \n",
       "123    853           161  2019-11-27 10:37:14  \n",
       "45     423           110  2022-10-10 21:31:21  \n",
       "33     287            95  2023-04-19 17:10:54  \n",
       "102    211           228  2020-12-09 19:58:37  \n",
       "21     204            14  2023-04-29 23:51:39  \n",
       "58     149           128  2022-04-25 15:28:33  \n",
       "7       93            38  2023-07-10 03:31:51  \n",
       "34      88            28  2023-04-19 14:14:17  "
      ]
     },
     "metadata": {},
     "output_type": "display_data"
    }
   ],
   "source": [
    "# posts with the highest scores\n",
    "top_posts = df_posts.sort_values(by='score', ascending=False)[['title', 'subreddit', 'score', 'num_comments', 'date']].head(10)\n",
    "display(top_posts)"
   ]
  },
  {
   "cell_type": "code",
   "execution_count": 44,
   "id": "f1460d5d-6159-481b-ad21-7a17172fb4b2",
   "metadata": {},
   "outputs": [
    {
     "data": {
      "text/html": [
       "<div>\n",
       "<style scoped>\n",
       "    .dataframe tbody tr th:only-of-type {\n",
       "        vertical-align: middle;\n",
       "    }\n",
       "\n",
       "    .dataframe tbody tr th {\n",
       "        vertical-align: top;\n",
       "    }\n",
       "\n",
       "    .dataframe thead th {\n",
       "        text-align: right;\n",
       "    }\n",
       "</style>\n",
       "<table border=\"1\" class=\"dataframe\">\n",
       "  <thead>\n",
       "    <tr style=\"text-align: right;\">\n",
       "      <th></th>\n",
       "      <th>title</th>\n",
       "      <th>subreddit</th>\n",
       "      <th>score</th>\n",
       "      <th>date</th>\n",
       "    </tr>\n",
       "  </thead>\n",
       "  <tbody>\n",
       "    <tr>\n",
       "      <th>122</th>\n",
       "      <td>What can we do about the Travis Runnels execut...</td>\n",
       "      <td>texas</td>\n",
       "      <td>0</td>\n",
       "      <td>2019-12-08 17:23:34</td>\n",
       "    </tr>\n",
       "    <tr>\n",
       "      <th>120</th>\n",
       "      <td>With help from the Innocence Project, nearly t...</td>\n",
       "      <td>Positive_News</td>\n",
       "      <td>0</td>\n",
       "      <td>2019-12-12 16:44:00</td>\n",
       "    </tr>\n",
       "    <tr>\n",
       "      <th>126</th>\n",
       "      <td>Michael Baden: Death row inmate Rodney Reed is...</td>\n",
       "      <td>MelanoidNation</td>\n",
       "      <td>0</td>\n",
       "      <td>2019-11-25 10:39:02</td>\n",
       "    </tr>\n",
       "    <tr>\n",
       "      <th>51</th>\n",
       "      <td>(Give Rodney a chance!!)Rodney Reed − overturn...</td>\n",
       "      <td>howardstern</td>\n",
       "      <td>0</td>\n",
       "      <td>2022-05-06 22:00:06</td>\n",
       "    </tr>\n",
       "    <tr>\n",
       "      <th>129</th>\n",
       "      <td>Rodney Reed case assigned new judge</td>\n",
       "      <td>texas</td>\n",
       "      <td>0</td>\n",
       "      <td>2019-11-22 23:44:28</td>\n",
       "    </tr>\n",
       "    <tr>\n",
       "      <th>118</th>\n",
       "      <td>[Politics] - Supreme Court won't take up Rodne...</td>\n",
       "      <td>AutoNewspaper</td>\n",
       "      <td>1</td>\n",
       "      <td>2020-02-24 15:51:33</td>\n",
       "    </tr>\n",
       "    <tr>\n",
       "      <th>17</th>\n",
       "      <td>Texas Court of Criminal Appeals rejects Rodney...</td>\n",
       "      <td>TrueCrimeUpdates</td>\n",
       "      <td>1</td>\n",
       "      <td>2023-06-28 17:42:31</td>\n",
       "    </tr>\n",
       "    <tr>\n",
       "      <th>116</th>\n",
       "      <td>Supreme Court won't take up Rodney Reed appeal</td>\n",
       "      <td>StateoftheUnionNONF</td>\n",
       "      <td>1</td>\n",
       "      <td>2020-02-24 19:09:10</td>\n",
       "    </tr>\n",
       "    <tr>\n",
       "      <th>20</th>\n",
       "      <td>Supreme Court Lets Rodney Reed, a Texas Death ...</td>\n",
       "      <td>u_NumerousRow</td>\n",
       "      <td>1</td>\n",
       "      <td>2023-04-30 00:44:40</td>\n",
       "    </tr>\n",
       "    <tr>\n",
       "      <th>24</th>\n",
       "      <td>SCOTUS allows Rodney Reed to pursue DNA testin...</td>\n",
       "      <td>The_FoxNewsNetwork</td>\n",
       "      <td>1</td>\n",
       "      <td>2023-04-20 03:54:01</td>\n",
       "    </tr>\n",
       "  </tbody>\n",
       "</table>\n",
       "</div>"
      ],
      "text/plain": [
       "                                                 title            subreddit  \\\n",
       "122  What can we do about the Travis Runnels execut...                texas   \n",
       "120  With help from the Innocence Project, nearly t...        Positive_News   \n",
       "126  Michael Baden: Death row inmate Rodney Reed is...       MelanoidNation   \n",
       "51   (Give Rodney a chance!!)Rodney Reed − overturn...          howardstern   \n",
       "129                Rodney Reed case assigned new judge                texas   \n",
       "118  [Politics] - Supreme Court won't take up Rodne...        AutoNewspaper   \n",
       "17   Texas Court of Criminal Appeals rejects Rodney...     TrueCrimeUpdates   \n",
       "116     Supreme Court won't take up Rodney Reed appeal  StateoftheUnionNONF   \n",
       "20   Supreme Court Lets Rodney Reed, a Texas Death ...        u_NumerousRow   \n",
       "24   SCOTUS allows Rodney Reed to pursue DNA testin...   The_FoxNewsNetwork   \n",
       "\n",
       "     score                 date  \n",
       "122      0  2019-12-08 17:23:34  \n",
       "120      0  2019-12-12 16:44:00  \n",
       "126      0  2019-11-25 10:39:02  \n",
       "51       0  2022-05-06 22:00:06  \n",
       "129      0  2019-11-22 23:44:28  \n",
       "118      1  2020-02-24 15:51:33  \n",
       "17       1  2023-06-28 17:42:31  \n",
       "116      1  2020-02-24 19:09:10  \n",
       "20       1  2023-04-30 00:44:40  \n",
       "24       1  2023-04-20 03:54:01  "
      ]
     },
     "metadata": {},
     "output_type": "display_data"
    }
   ],
   "source": [
    "# posts with the lowest scores\n",
    "low_posts = df_posts.sort_values(by='score', ascending=True)[['title', 'subreddit', 'score', 'date']].head(10)\n",
    "display(low_posts)"
   ]
  },
  {
   "cell_type": "code",
   "execution_count": 101,
   "id": "8c1bdecc-0d05-4ef7-a783-0ef16f96fa90",
   "metadata": {},
   "outputs": [
    {
     "data": {
      "image/png": "[encoded data removed]",
      "text/plain": [
       "<Figure size 400x600 with 1 Axes>"
      ]
     },
     "metadata": {},
     "output_type": "display_data"
    }
   ],
   "source": [
    "# post score distribution (excluding 2 outliers)\n",
    "outliers = df_posts['score'].nlargest(2).index\n",
    "filtered_scores = df_posts.drop(index=outliers)['score']\n",
    "\n",
    "plt.figure(figsize=(4, 6))\n",
    "sns.boxplot(y=filtered_scores, color='#92b281')\n",
    "\n",
    "plt.title('Post Reddit Score Distribution')\n",
    "\n",
    "plt.tight_layout()\n",
    "plt.show()"
   ]
  },
  {
   "cell_type": "markdown",
   "id": "584eb1e5-eb8c-457e-9d64-ce7de8b8adb6",
   "metadata": {},
   "source": [
    "Exploratory Analysis by Subreddit"
   ]
  },
  {
   "cell_type": "code",
   "execution_count": 217,
   "id": "b7f649b9-5a8f-40c5-9779-431be3836604",
   "metadata": {},
   "outputs": [
    {
     "name": "stdout",
     "output_type": "stream",
     "text": [
      "subreddit\n",
      "AutoNewspaper          16\n",
      "BastropTX              14\n",
      "Austin                  8\n",
      "TrueCrimeDiscussion     6\n",
      "TheIntercept            5\n",
      "texas                   4\n",
      "NYTauto                 4\n",
      "Intercept               4\n",
      "prisons                 3\n",
      "creeptimethepodcast     2\n",
      "LiberationNews          2\n",
      "UnresolvedMysteries     2\n",
      "KUWTK                   2\n",
      "HOUSTONCHRONauto        2\n",
      "law                     2\n",
      "dtype: int64\n"
     ]
    }
   ],
   "source": [
    "# number of posts per subreddit\n",
    "subreddits = df_posts.groupby('subreddit').size()\n",
    "subreddits = subreddits.sort_values(ascending=False)\n",
    "\n",
    "print(subreddits.head(15))"
   ]
  },
  {
   "cell_type": "code",
   "execution_count": 218,
   "id": "111a6e1c-cef0-4e70-92e0-8368bf245de9",
   "metadata": {},
   "outputs": [
    {
     "name": "stdout",
     "output_type": "stream",
     "text": [
      "subreddit\n",
      "politics               1864.5\n",
      "Keep_Track             1448.0\n",
      "TrueCrimePodcasts       428.0\n",
      "UnresolvedMysteries     149.0\n",
      "law                     148.5\n",
      "scotus                  118.5\n",
      "Austin                  114.0\n",
      "hercreation              87.0\n",
      "KUWTK                    60.5\n",
      "TexasPolitics            47.0\n",
      "2020Reclamation          42.0\n",
      "COMPLETEANARCHY          35.0\n",
      "AmericasSocialists       32.0\n",
      "TrueCrime                30.0\n",
      "socialism                23.0\n",
      "Name: score, dtype: float64\n"
     ]
    }
   ],
   "source": [
    "# average score by subreddit\n",
    "subreddit_score = df_posts.groupby('subreddit')['score'].mean()\n",
    "subreddit_score = subreddit_score.sort_values(ascending=False)\n",
    "\n",
    "print(subreddit_score.head(15))"
   ]
  },
  {
   "cell_type": "markdown",
   "id": "9b63eb4b-6158-45f9-ba40-32c4fc1e5d93",
   "metadata": {},
   "source": [
    "Exploratory Analysis of Comments"
   ]
  },
  {
   "cell_type": "code",
   "execution_count": 219,
   "id": "fcf9edf4-88d0-4f75-93ad-e2586810b3dd",
   "metadata": {},
   "outputs": [
    {
     "name": "stdout",
     "output_type": "stream",
     "text": [
      "Comments were collected from 2019-11-22 to 2025-02-21.\n"
     ]
    }
   ],
   "source": [
    "# date range for comments\n",
    "comments_start = df_comments['date'].min()\n",
    "comments_end = df_comments['date'].max()\n",
    "\n",
    "print(f'Comments were collected from {comments_start} to {comments_end}.')"
   ]
  },
  {
   "cell_type": "code",
   "execution_count": 29,
   "id": "388e1a11-ce3f-405d-a7dd-be51498a8a31",
   "metadata": {},
   "outputs": [
    {
     "name": "stdout",
     "output_type": "stream",
     "text": [
      "Average comment length: 69 words\n"
     ]
    }
   ],
   "source": [
    "# average length of comments\n",
    "comment_text_length = df_comments['cleaned_text'].apply(lambda x: len(x.split()))\n",
    "avg_length_comment = round(comment_text_length.mean())\n",
    "print(f'Average comment length: {avg_length_comment} words')"
   ]
  },
  {
   "cell_type": "code",
   "execution_count": 117,
   "id": "13d723f8-3d90-4877-936e-5fbc9a816fb2",
   "metadata": {},
   "outputs": [
    {
     "name": "stdout",
     "output_type": "stream",
     "text": [
      "There are 176 comments that were made by the original author.\n"
     ]
    }
   ],
   "source": [
    "# number of times post author commented\n",
    "submitter = df_comments[df_comments['is_submitter'] == True]\n",
    "print(f'There are {submitter.shape[0]} comments that were made by the original author.')"
   ]
  },
  {
   "cell_type": "code",
   "execution_count": 229,
   "id": "49f8f4d3-04ee-4da7-ac9c-9b7400d6a43a",
   "metadata": {},
   "outputs": [
    {
     "name": "stdout",
     "output_type": "stream",
     "text": [
      "Average Comment Score: 8.439451277199622 \n",
      "Lowest Score: -46 \n",
      "Highest Score: 1428 \n",
      "\n",
      "count    2114.000000\n",
      "mean        8.439451\n",
      "std        38.957102\n",
      "min       -46.000000\n",
      "25%         1.000000\n",
      "50%         2.000000\n",
      "75%         6.000000\n",
      "max      1428.000000\n",
      "Name: score, dtype: float64\n"
     ]
    }
   ],
   "source": [
    "# comment score statistics\n",
    "comment_score = df_comments['score']\n",
    "print(f'Average Comment Score: {comment_score.mean()} \\nLowest Score: {comment_score.min()} \\nHighest Score: {comment_score.max()} \\n')\n",
    "print(comment_score.describe())"
   ]
  },
  {
   "cell_type": "code",
   "execution_count": 24,
   "id": "1af58723-46b8-40ff-b261-4613729b1679",
   "metadata": {},
   "outputs": [
    {
     "data": {
      "text/html": [
       "<div>\n",
       "<style scoped>\n",
       "    .dataframe tbody tr th:only-of-type {\n",
       "        vertical-align: middle;\n",
       "    }\n",
       "\n",
       "    .dataframe tbody tr th {\n",
       "        vertical-align: top;\n",
       "    }\n",
       "\n",
       "    .dataframe thead th {\n",
       "        text-align: right;\n",
       "    }\n",
       "</style>\n",
       "<table border=\"1\" class=\"dataframe\">\n",
       "  <thead>\n",
       "    <tr style=\"text-align: right;\">\n",
       "      <th></th>\n",
       "      <th>comment_id</th>\n",
       "      <th>body</th>\n",
       "      <th>score</th>\n",
       "      <th>date</th>\n",
       "    </tr>\n",
       "  </thead>\n",
       "  <tbody>\n",
       "    <tr>\n",
       "      <th>229</th>\n",
       "      <td>ji8mflf</td>\n",
       "      <td>&gt; In a separate dissent, Justice Clarence Thom...</td>\n",
       "      <td>1428</td>\n",
       "      <td>2023-04-29 22:54:32</td>\n",
       "    </tr>\n",
       "    <tr>\n",
       "      <th>253</th>\n",
       "      <td>ji8mp31</td>\n",
       "      <td>If the devil wrote a satirical parody about hi...</td>\n",
       "      <td>513</td>\n",
       "      <td>2023-04-29 22:56:38</td>\n",
       "    </tr>\n",
       "    <tr>\n",
       "      <th>766</th>\n",
       "      <td>ingefq0</td>\n",
       "      <td>*Moore v. Harper* is terrifying.</td>\n",
       "      <td>383</td>\n",
       "      <td>2022-09-07 14:34:30</td>\n",
       "    </tr>\n",
       "    <tr>\n",
       "      <th>797</th>\n",
       "      <td>ingidah</td>\n",
       "      <td>Yup, that's the one that would legit just end ...</td>\n",
       "      <td>296</td>\n",
       "      <td>2022-09-07 15:00:33</td>\n",
       "    </tr>\n",
       "    <tr>\n",
       "      <th>1634</th>\n",
       "      <td>gf7cjxy</td>\n",
       "      <td>I'm not convinced he's innocent, but there's m...</td>\n",
       "      <td>242</td>\n",
       "      <td>2020-12-09 20:18:20</td>\n",
       "    </tr>\n",
       "    <tr>\n",
       "      <th>233</th>\n",
       "      <td>ji8oq4y</td>\n",
       "      <td>&gt;In a separate dissent, Justice Clarence Thoma...</td>\n",
       "      <td>225</td>\n",
       "      <td>2023-04-29 23:12:53</td>\n",
       "    </tr>\n",
       "    <tr>\n",
       "      <th>767</th>\n",
       "      <td>inghx8t</td>\n",
       "      <td>Why do I feel like I can count on this Supreme...</td>\n",
       "      <td>224</td>\n",
       "      <td>2022-09-07 14:57:37</td>\n",
       "    </tr>\n",
       "    <tr>\n",
       "      <th>231</th>\n",
       "      <td>ji8t39l</td>\n",
       "      <td>Imagine having to \"let\" someone prove they sho...</td>\n",
       "      <td>211</td>\n",
       "      <td>2023-04-29 23:48:06</td>\n",
       "    </tr>\n",
       "    <tr>\n",
       "      <th>1637</th>\n",
       "      <td>gf7hkc7</td>\n",
       "      <td>I really can't take Kim Kardashian serious aft...</td>\n",
       "      <td>210</td>\n",
       "      <td>2020-12-09 20:57:02</td>\n",
       "    </tr>\n",
       "    <tr>\n",
       "      <th>1633</th>\n",
       "      <td>gfaogsl</td>\n",
       "      <td>Kim Kardashian and others are severely misinfo...</td>\n",
       "      <td>196</td>\n",
       "      <td>2020-12-10 16:34:36</td>\n",
       "    </tr>\n",
       "  </tbody>\n",
       "</table>\n",
       "</div>"
      ],
      "text/plain": [
       "     comment_id                                               body  score  \\\n",
       "229     ji8mflf  > In a separate dissent, Justice Clarence Thom...   1428   \n",
       "253     ji8mp31  If the devil wrote a satirical parody about hi...    513   \n",
       "766     ingefq0                   *Moore v. Harper* is terrifying.    383   \n",
       "797     ingidah  Yup, that's the one that would legit just end ...    296   \n",
       "1634    gf7cjxy  I'm not convinced he's innocent, but there's m...    242   \n",
       "233     ji8oq4y  >In a separate dissent, Justice Clarence Thoma...    225   \n",
       "767     inghx8t  Why do I feel like I can count on this Supreme...    224   \n",
       "231     ji8t39l  Imagine having to \"let\" someone prove they sho...    211   \n",
       "1637    gf7hkc7  I really can't take Kim Kardashian serious aft...    210   \n",
       "1633    gfaogsl  Kim Kardashian and others are severely misinfo...    196   \n",
       "\n",
       "                    date  \n",
       "229  2023-04-29 22:54:32  \n",
       "253  2023-04-29 22:56:38  \n",
       "766  2022-09-07 14:34:30  \n",
       "797  2022-09-07 15:00:33  \n",
       "1634 2020-12-09 20:18:20  \n",
       "233  2023-04-29 23:12:53  \n",
       "767  2022-09-07 14:57:37  \n",
       "231  2023-04-29 23:48:06  \n",
       "1637 2020-12-09 20:57:02  \n",
       "1633 2020-12-10 16:34:36  "
      ]
     },
     "metadata": {},
     "output_type": "display_data"
    }
   ],
   "source": [
    "# comments with the highest scores\n",
    "top_comments = df_comments.sort_values(by='score', ascending=False)[['comment_id', 'body', 'score', 'date']].head(10)\n",
    "display(top_comments)"
   ]
  },
  {
   "cell_type": "code",
   "execution_count": 46,
   "id": "6a6f2ebb-5c77-4357-8350-f31b4b2c01d7",
   "metadata": {},
   "outputs": [
    {
     "data": {
      "text/html": [
       "<div>\n",
       "<style scoped>\n",
       "    .dataframe tbody tr th:only-of-type {\n",
       "        vertical-align: middle;\n",
       "    }\n",
       "\n",
       "    .dataframe tbody tr th {\n",
       "        vertical-align: top;\n",
       "    }\n",
       "\n",
       "    .dataframe thead th {\n",
       "        text-align: right;\n",
       "    }\n",
       "</style>\n",
       "<table border=\"1\" class=\"dataframe\">\n",
       "  <thead>\n",
       "    <tr style=\"text-align: right;\">\n",
       "      <th></th>\n",
       "      <th>comment_id</th>\n",
       "      <th>body</th>\n",
       "      <th>score</th>\n",
       "      <th>date</th>\n",
       "    </tr>\n",
       "  </thead>\n",
       "  <tbody>\n",
       "    <tr>\n",
       "      <th>1414</th>\n",
       "      <td>h0fyd1w</td>\n",
       "      <td>OJ and Derek Chauvin.\\nOJ is self explanatory....</td>\n",
       "      <td>-46</td>\n",
       "      <td>2021-06-03 14:24:16</td>\n",
       "    </tr>\n",
       "    <tr>\n",
       "      <th>642</th>\n",
       "      <td>irtovhw</td>\n",
       "      <td>He's a child rapist. Let him burn</td>\n",
       "      <td>-31</td>\n",
       "      <td>2022-10-10 23:28:45</td>\n",
       "    </tr>\n",
       "    <tr>\n",
       "      <th>1565</th>\n",
       "      <td>gf7xqkl</td>\n",
       "      <td>Too long. Didn't have to read.\\n\\nWhy do peopl...</td>\n",
       "      <td>-18</td>\n",
       "      <td>2020-12-09 23:10:20</td>\n",
       "    </tr>\n",
       "    <tr>\n",
       "      <th>28</th>\n",
       "      <td>lbe0wte</td>\n",
       "      <td>I don't believe in the death penalty but that ...</td>\n",
       "      <td>-17</td>\n",
       "      <td>2024-07-03 03:13:13</td>\n",
       "    </tr>\n",
       "    <tr>\n",
       "      <th>405</th>\n",
       "      <td>jgxbr1m</td>\n",
       "      <td>Get your facts straight about the 12 year old....</td>\n",
       "      <td>-15</td>\n",
       "      <td>2023-04-19 20:17:56</td>\n",
       "    </tr>\n",
       "    <tr>\n",
       "      <th>1178</th>\n",
       "      <td>hixh13n</td>\n",
       "      <td>Haven’t heard of him before and don’t know muc...</td>\n",
       "      <td>-13</td>\n",
       "      <td>2021-11-01 20:51:46</td>\n",
       "    </tr>\n",
       "    <tr>\n",
       "      <th>99</th>\n",
       "      <td>jrd6rh0</td>\n",
       "      <td>Poor Rodney Reed.  Talk about bad luck.  He ha...</td>\n",
       "      <td>-13</td>\n",
       "      <td>2023-07-10 04:42:47</td>\n",
       "    </tr>\n",
       "    <tr>\n",
       "      <th>798</th>\n",
       "      <td>inhcebw</td>\n",
       "      <td>MLK and Gandhi showed the way: non-violent *re...</td>\n",
       "      <td>-12</td>\n",
       "      <td>2022-09-07 18:11:14</td>\n",
       "    </tr>\n",
       "    <tr>\n",
       "      <th>400</th>\n",
       "      <td>jgx0trn</td>\n",
       "      <td>Allegedly</td>\n",
       "      <td>-11</td>\n",
       "      <td>2023-04-19 19:08:58</td>\n",
       "    </tr>\n",
       "    <tr>\n",
       "      <th>419</th>\n",
       "      <td>jgxq841</td>\n",
       "      <td>DNA appeared in those rape kits along with sev...</td>\n",
       "      <td>-10</td>\n",
       "      <td>2023-04-19 21:51:06</td>\n",
       "    </tr>\n",
       "  </tbody>\n",
       "</table>\n",
       "</div>"
      ],
      "text/plain": [
       "     comment_id                                               body  score  \\\n",
       "1414    h0fyd1w  OJ and Derek Chauvin.\\nOJ is self explanatory....    -46   \n",
       "642     irtovhw                  He's a child rapist. Let him burn    -31   \n",
       "1565    gf7xqkl  Too long. Didn't have to read.\\n\\nWhy do peopl...    -18   \n",
       "28      lbe0wte  I don't believe in the death penalty but that ...    -17   \n",
       "405     jgxbr1m  Get your facts straight about the 12 year old....    -15   \n",
       "1178    hixh13n  Haven’t heard of him before and don’t know muc...    -13   \n",
       "99      jrd6rh0  Poor Rodney Reed.  Talk about bad luck.  He ha...    -13   \n",
       "798     inhcebw  MLK and Gandhi showed the way: non-violent *re...    -12   \n",
       "400     jgx0trn                                          Allegedly    -11   \n",
       "419     jgxq841  DNA appeared in those rape kits along with sev...    -10   \n",
       "\n",
       "                     date  \n",
       "1414  2021-06-03 14:24:16  \n",
       "642   2022-10-10 23:28:45  \n",
       "1565  2020-12-09 23:10:20  \n",
       "28    2024-07-03 03:13:13  \n",
       "405   2023-04-19 20:17:56  \n",
       "1178  2021-11-01 20:51:46  \n",
       "99    2023-07-10 04:42:47  \n",
       "798   2022-09-07 18:11:14  \n",
       "400   2023-04-19 19:08:58  \n",
       "419   2023-04-19 21:51:06  "
      ]
     },
     "metadata": {},
     "output_type": "display_data"
    }
   ],
   "source": [
    "# comments with the lowest scores\n",
    "low_comments = df_comments.sort_values(by='score', ascending=True)[['comment_id', 'body', 'score', 'date']].head(10)\n",
    "display(low_comments)"
   ]
  },
  {
   "cell_type": "code",
   "execution_count": 83,
   "id": "2bf8e359-0c38-4836-bd5c-49b66f43152c",
   "metadata": {},
   "outputs": [
    {
     "data": {
      "image/png": "[encoded data removed]",
      "text/plain": [
       "<Figure size 400x1000 with 1 Axes>"
      ]
     },
     "metadata": {},
     "output_type": "display_data"
    }
   ],
   "source": [
    "# comment sentiment distribution (exluding 1 outlier)\n",
    "outlier = df_comments['score'].max()\n",
    "filtered_scores = df_comments[df_comments['score'] != outlier]['score']\n",
    "\n",
    "plt.figure(figsize=(4, 10))\n",
    "sns.boxplot(y=filtered_scores, color='#f46530')\n",
    "plt.title('Comment Reddit Score Distribution')\n",
    "\n",
    "plt.tight_layout()\n",
    "plt.show()"
   ]
  }
 ],
 "metadata": {
  "kernelspec": {
   "display_name": "anaconda-ai-2024.04-py310",
   "language": "python",
   "name": "conda-env-anaconda-ai-2024.04-py310-py"
  },
  "language_info": {
   "codemirror_mode": {
    "name": "ipython",
    "version": 3
   },
   "file_extension": ".py",
   "mimetype": "text/x-python",
   "name": "python",
   "nbconvert_exporter": "python",
   "pygments_lexer": "ipython3",
   "version": "3.10.13"
  }
 },
 "nbformat": 4,
 "nbformat_minor": 5
}
